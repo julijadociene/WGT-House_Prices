{
 "cells": [
  {
   "cell_type": "code",
   "execution_count": 2,
   "metadata": {},
   "outputs": [],
   "source": [
    "import numpy as np \n",
    "import pandas as pd\n",
    "import sklearn\n",
    "from sklearn.model_selection import train_test_split\n",
    "from sklearn.linear_model import LinearRegression\n",
    "from sklearn import metrics\n",
    "import feature_engineering"
   ]
  },
  {
   "cell_type": "code",
   "execution_count": null,
   "metadata": {},
   "outputs": [],
   "source": [
    "def regression (dataframe):\n",
    "    X = dataframe.copy()\n",
    "    y = X['SalePrice']\n",
    "    xtrain, xtest, ytrain, ytest = train_test_split(X, y, test_size=0.2, random_state=42)\n",
    "    reg = LinearRegression().fit(xtrain, ytrain)\n",
    "    ypred = reg.predict(xtest)\n",
    "    offline_value = reg.score(X, y)\n",
    "    return print(\"Offline value \"+str(offline_value))\n",
    "\n",
    "regression(feature_engineering.df_c_encoding)"
   ]
  },
  {
   "cell_type": "code",
   "execution_count": null,
   "metadata": {},
   "outputs": [],
   "source": [
    "#pathai, kintamieji, funkcijų vykdymas\n",
    "if __name__ == \"__main__\":\n",
    "    df_train = pd.read_csv(r'.\\data\\train.csv')\n",
    "    train_size = 0.8\n",
    "    test_size=0.2\n",
    "    "
   ]
  },
  {
   "cell_type": "code",
   "execution_count": null,
   "metadata": {},
   "outputs": [],
   "source": [
    "#Atskirame faile?\n",
    "#which columns should I include in regression?\n",
    " #To find the parameters, we need to minimize the least squares or the sum of squared errors\n",
    " # find coefficients(parameters/betas)\n",
    " #to tell if coefficients are relevant to predict dependent variable find p-value (F-statistic?)\n",
    " #find RSE(the lower the residual errors, the better the model fits the data )/ R^2( proportion of variability in the target that can be explained using a feature X)\n",
    "\n",
    "#train data "
   ]
  }
 ],
 "metadata": {
  "interpreter": {
   "hash": "11b80d4289e7442379d543a527d2b9b0b25546c3f510b475b83e35b44eb3cb14"
  },
  "kernelspec": {
   "display_name": "Python 3.9.6 ('houseprices': venv)",
   "language": "python",
   "name": "python3"
  },
  "language_info": {
   "codemirror_mode": {
    "name": "ipython",
    "version": 3
   },
   "file_extension": ".py",
   "mimetype": "text/x-python",
   "name": "python",
   "nbconvert_exporter": "python",
   "pygments_lexer": "ipython3",
   "version": "3.9.6"
  },
  "orig_nbformat": 4
 },
 "nbformat": 4,
 "nbformat_minor": 2
}
