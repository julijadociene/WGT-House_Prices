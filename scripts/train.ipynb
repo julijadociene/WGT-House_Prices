{
 "cells": [
  {
   "cell_type": "code",
   "execution_count": 1,
   "metadata": {},
   "outputs": [
    {
     "ename": "NameError",
     "evalue": "name 'df_c_train' is not defined",
     "output_type": "error",
     "traceback": [
      "\u001b[1;31m---------------------------------------------------------------------------\u001b[0m",
      "\u001b[1;31mNameError\u001b[0m                                 Traceback (most recent call last)",
      "\u001b[1;32mc:\\Users\\julij\\wgt\\WGT-House_Prices\\scripts\\train.ipynb Cell 1'\u001b[0m in \u001b[0;36m<cell line: 7>\u001b[1;34m()\u001b[0m\n\u001b[0;32m      <a href='vscode-notebook-cell:/c%3A/Users/julij/wgt/WGT-House_Prices/scripts/train.ipynb#ch0000000?line=4'>5</a>\u001b[0m \u001b[39mfrom\u001b[39;00m \u001b[39msklearn\u001b[39;00m\u001b[39m.\u001b[39;00m\u001b[39mlinear_model\u001b[39;00m \u001b[39mimport\u001b[39;00m LinearRegression\n\u001b[0;32m      <a href='vscode-notebook-cell:/c%3A/Users/julij/wgt/WGT-House_Prices/scripts/train.ipynb#ch0000000?line=5'>6</a>\u001b[0m \u001b[39mfrom\u001b[39;00m \u001b[39msklearn\u001b[39;00m \u001b[39mimport\u001b[39;00m metrics\n\u001b[1;32m----> <a href='vscode-notebook-cell:/c%3A/Users/julij/wgt/WGT-House_Prices/scripts/train.ipynb#ch0000000?line=6'>7</a>\u001b[0m \u001b[39mimport\u001b[39;00m \u001b[39mfeature_engineering\u001b[39;00m\n",
      "File \u001b[1;32mc:\\Users\\julij\\wgt\\WGT-House_Prices\\scripts\\feature_engineering.py:126\u001b[0m, in \u001b[0;36m<module>\u001b[1;34m\u001b[0m\n\u001b[0;32m    <a href='file:///c%3A/Users/julij/wgt/WGT-House_Prices/scripts/feature_engineering.py?line=119'>120</a>\u001b[0m     columns_na_to_0_test \u001b[39m=\u001b[39m [\u001b[39m'\u001b[39m\u001b[39mBsmtFullBath\u001b[39m\u001b[39m'\u001b[39m,\n\u001b[0;32m    <a href='file:///c%3A/Users/julij/wgt/WGT-House_Prices/scripts/feature_engineering.py?line=120'>121</a>\u001b[0m                    \u001b[39m'\u001b[39m\u001b[39mBsmtHalfBath\u001b[39m\u001b[39m'\u001b[39m,\n\u001b[0;32m    <a href='file:///c%3A/Users/julij/wgt/WGT-House_Prices/scripts/feature_engineering.py?line=121'>122</a>\u001b[0m                    \u001b[39m'\u001b[39m\u001b[39mGarageCars\u001b[39m\u001b[39m'\u001b[39m,\n\u001b[0;32m    <a href='file:///c%3A/Users/julij/wgt/WGT-House_Prices/scripts/feature_engineering.py?line=122'>123</a>\u001b[0m                    \u001b[39m'\u001b[39m\u001b[39mGarageArea\u001b[39m\u001b[39m'\u001b[39m]\n\u001b[0;32m    <a href='file:///c%3A/Users/julij/wgt/WGT-House_Prices/scripts/feature_engineering.py?line=123'>124</a>\u001b[0m     df_c_test \u001b[39m=\u001b[39m removing_missing_values_test(df_test)\n\u001b[1;32m--> <a href='file:///c%3A/Users/julij/wgt/WGT-House_Prices/scripts/feature_engineering.py?line=125'>126</a>\u001b[0m df_c_train_encoding \u001b[39m=\u001b[39m encoding(df_c_train)\n\u001b[0;32m    <a href='file:///c%3A/Users/julij/wgt/WGT-House_Prices/scripts/feature_engineering.py?line=126'>127</a>\u001b[0m df_c_test_encoding \u001b[39m=\u001b[39m encoding(df_c_test)\n",
      "\u001b[1;31mNameError\u001b[0m: name 'df_c_train' is not defined"
     ]
    }
   ],
   "source": [
    "import numpy as np \n",
    "import pandas as pd\n",
    "import sklearn\n",
    "from sklearn.model_selection import train_test_split\n",
    "from sklearn.linear_model import LinearRegression\n",
    "from sklearn import metrics\n",
    "import feature_engineering"
   ]
  },
  {
   "cell_type": "code",
   "execution_count": null,
   "metadata": {},
   "outputs": [],
   "source": [
    "def regression (dataframe):\n",
    "    X = dataframe.copy()\n",
    "    y = X['SalePrice']\n",
    "    xtrain, xtest, ytrain, ytest = train_test_split(X, y, test_size=0.2, random_state=42)\n",
    "    reg = LinearRegression().fit(xtrain, ytrain)\n",
    "    ypred = reg.predict(xtest)\n",
    "    offline_value = reg.score(X, y)\n",
    "    return print(\"Offline value \"+str(offline_value))\n",
    "\n",
    "regression(feature_engineering.df_c_encoding)"
   ]
  },
  {
   "cell_type": "code",
   "execution_count": null,
   "metadata": {},
   "outputs": [],
   "source": []
  },
  {
   "cell_type": "code",
   "execution_count": null,
   "metadata": {},
   "outputs": [],
   "source": [
    "#pathai, kintamieji, funkcijų vykdymas\n",
    "if __name__ == \"__main__\":\n",
    "    df_train = pd.read_csv(r'.\\data\\train.csv')\n",
    "    train_size = 0.8\n",
    "    test_size=0.2\n",
    "    "
   ]
  },
  {
   "cell_type": "code",
   "execution_count": null,
   "metadata": {},
   "outputs": [],
   "source": [
    "#Atskirame faile?\n",
    "#which columns should I include in regression?\n",
    " #To find the parameters, we need to minimize the least squares or the sum of squared errors\n",
    " # find coefficients(parameters/betas)\n",
    " #to tell if coefficients are relevant to predict dependent variable find p-value (F-statistic?)\n",
    " #find RSE(the lower the residual errors, the better the model fits the data )/ R^2( proportion of variability in the target that can be explained using a feature X)\n",
    "\n",
    "#train data "
   ]
  }
 ],
 "metadata": {
  "interpreter": {
   "hash": "11b80d4289e7442379d543a527d2b9b0b25546c3f510b475b83e35b44eb3cb14"
  },
  "kernelspec": {
   "display_name": "Python 3.9.6 ('houseprices': venv)",
   "language": "python",
   "name": "python3"
  },
  "language_info": {
   "codemirror_mode": {
    "name": "ipython",
    "version": 3
   },
   "file_extension": ".py",
   "mimetype": "text/x-python",
   "name": "python",
   "nbconvert_exporter": "python",
   "pygments_lexer": "ipython3",
   "version": "3.9.6"
  },
  "orig_nbformat": 4
 },
 "nbformat": 4,
 "nbformat_minor": 2
}
