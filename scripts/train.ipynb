{
 "cells": [
  {
   "cell_type": "code",
   "execution_count": null,
   "metadata": {},
   "outputs": [],
   "source": [
    "import numpy as np \n",
    "import pandas as pd\n",
    "import sklearn\n",
    "#from datetime import datetime\n",
    "#from typing import Tuple\n",
    "from sklearn.model_selection import train_test_split\n",
    "from sklearn.linear_model import LinearRegression\n",
    "from sklearn import metrics"
   ]
  },
  {
   "cell_type": "code",
   "execution_count": null,
   "metadata": {},
   "outputs": [],
   "source": [
    "#train, test datasets\n",
    "    train_size = 0.8 #split the data in 80:10:10 for train:valid:test dataset\n",
    "    X = data.copy()\n",
    "    \n",
    "    xtrain, xtest, ytrain, ytest = train_test_split(X, y, test_size=0.2, random_state=42)\n",
    "\n",
    "    #Offline metrika\n",
    "    reg = LinearRegression().fit(xtrain, ytrain)\n",
    "\n",
    "    #print the coefficients\n",
    "    print(reg.intercept_)\n",
    "    print(reg.coef_)\n",
    "\n",
    "    #predictions based on model\n",
    "    ypred = reg.predict(xtest)\n",
    "\n",
    "    #R^2 also accuracy; Accuracy is a measure for the closeness of the measurements to a specific value,\n",
    "    offline_value = reg.score(X, y)\n",
    "    print(\"Offline value \"+str(offline_value))\n",
    "    \n",
    "    print(\"Online value \"+str(true_offline_to_online_relationship(offline_value))) "
   ]
  },
  {
   "cell_type": "code",
   "execution_count": null,
   "metadata": {},
   "outputs": [],
   "source": [
    "#Atskirame faile?\n",
    "#which columns should I include in regression?\n",
    " #To find the parameters, we need to minimize the least squares or the sum of squared errors\n",
    " # find coefficients(parameters/betas)\n",
    " #to tell if coefficients are relevant to predict dependent variable find p-value (F-statistic?)\n",
    " #find RSE(the lower the residual errors, the better the model fits the data )/ R^2( proportion of variability in the target that can be explained using a feature X)\n",
    "\n",
    "#train data "
   ]
  }
 ],
 "metadata": {
  "language_info": {
   "name": "python"
  },
  "orig_nbformat": 4
 },
 "nbformat": 4,
 "nbformat_minor": 2
}
