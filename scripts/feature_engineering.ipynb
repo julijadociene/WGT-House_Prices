{
 "cells": [
  {
   "cell_type": "code",
   "execution_count": 2,
   "metadata": {},
   "outputs": [],
   "source": [
    "import pandas as pd\n",
    "import numpy as np\n",
    "import subprocess\n",
    "import os\n",
    "import os.path\n",
    "import matplotlib.pyplot as plt"
   ]
  },
  {
   "cell_type": "code",
   "execution_count": 3,
   "metadata": {},
   "outputs": [],
   "source": [
    "#import train.csv file\n",
    "df = pd.read_csv('C:/Users/julij/wgt/WGT-House_Prices/data/train.csv')\n",
    "#df.head(df)"
   ]
  },
  {
   "cell_type": "code",
   "execution_count": 4,
   "metadata": {},
   "outputs": [
    {
     "name": "stdout",
     "output_type": "stream",
     "text": [
      "         Id  MSSubClass  MSZoning  LotFrontage  LotArea  Street  Alley  \\\n",
      "0     False       False     False        False    False   False   True   \n",
      "1     False       False     False        False    False   False   True   \n",
      "2     False       False     False        False    False   False   True   \n",
      "3     False       False     False        False    False   False   True   \n",
      "4     False       False     False        False    False   False   True   \n",
      "...     ...         ...       ...          ...      ...     ...    ...   \n",
      "1455  False       False     False        False    False   False   True   \n",
      "1456  False       False     False        False    False   False   True   \n",
      "1457  False       False     False        False    False   False   True   \n",
      "1458  False       False     False        False    False   False   True   \n",
      "1459  False       False     False        False    False   False   True   \n",
      "\n",
      "      LotShape  LandContour  Utilities  ...  PoolArea  PoolQC  Fence  \\\n",
      "0        False        False      False  ...     False    True   True   \n",
      "1        False        False      False  ...     False    True   True   \n",
      "2        False        False      False  ...     False    True   True   \n",
      "3        False        False      False  ...     False    True   True   \n",
      "4        False        False      False  ...     False    True   True   \n",
      "...        ...          ...        ...  ...       ...     ...    ...   \n",
      "1455     False        False      False  ...     False    True   True   \n",
      "1456     False        False      False  ...     False    True  False   \n",
      "1457     False        False      False  ...     False    True  False   \n",
      "1458     False        False      False  ...     False    True   True   \n",
      "1459     False        False      False  ...     False    True   True   \n",
      "\n",
      "      MiscFeature  MiscVal  MoSold  YrSold  SaleType  SaleCondition  SalePrice  \n",
      "0            True    False   False   False     False          False      False  \n",
      "1            True    False   False   False     False          False      False  \n",
      "2            True    False   False   False     False          False      False  \n",
      "3            True    False   False   False     False          False      False  \n",
      "4            True    False   False   False     False          False      False  \n",
      "...           ...      ...     ...     ...       ...            ...        ...  \n",
      "1455         True    False   False   False     False          False      False  \n",
      "1456         True    False   False   False     False          False      False  \n",
      "1457        False    False   False   False     False          False      False  \n",
      "1458         True    False   False   False     False          False      False  \n",
      "1459         True    False   False   False     False          False      False  \n",
      "\n",
      "[1460 rows x 81 columns]\n"
     ]
    }
   ],
   "source": [
    "#Feature Engineering\n",
    "#Checking for missing values\n",
    "print(df.isna())"
   ]
  },
  {
   "cell_type": "code",
   "execution_count": 5,
   "metadata": {},
   "outputs": [
    {
     "name": "stdout",
     "output_type": "stream",
     "text": [
      "Id               False\n",
      "MSSubClass       False\n",
      "MSZoning         False\n",
      "LotFrontage       True\n",
      "LotArea          False\n",
      "                 ...  \n",
      "MoSold           False\n",
      "YrSold           False\n",
      "SaleType         False\n",
      "SaleCondition    False\n",
      "SalePrice        False\n",
      "Length: 81, dtype: bool\n"
     ]
    }
   ],
   "source": [
    "print(df.isna().any())"
   ]
  },
  {
   "cell_type": "code",
   "execution_count": 9,
   "metadata": {},
   "outputs": [
    {
     "ename": "ValueError",
     "evalue": "DataFrame constructor not properly called!",
     "output_type": "error",
     "traceback": [
      "\u001b[1;31m---------------------------------------------------------------------------\u001b[0m",
      "\u001b[1;31mValueError\u001b[0m                                Traceback (most recent call last)",
      "\u001b[1;32mc:\\Users\\julij\\wgt\\WGT-House_Prices\\scripts\\feature_engineering.ipynb Cell 5'\u001b[0m in \u001b[0;36m<cell line: 1>\u001b[1;34m()\u001b[0m\n\u001b[0;32m      <a href='vscode-notebook-cell:/c%3A/Users/julij/wgt/WGT-House_Prices/scripts/feature_engineering.ipynb#ch0000004?line=0'>1</a>\u001b[0m \u001b[39mwith\u001b[39;00m \u001b[39mopen\u001b[39m(\u001b[39m'\u001b[39m\u001b[39mC:/Users/julij/wgt/WGT-House_Prices/results/missing_values.txt\u001b[39m\u001b[39m'\u001b[39m, \u001b[39m'\u001b[39m\u001b[39mw\u001b[39m\u001b[39m'\u001b[39m) \u001b[39mas\u001b[39;00m f:\n\u001b[0;32m      <a href='vscode-notebook-cell:/c%3A/Users/julij/wgt/WGT-House_Prices/scripts/feature_engineering.ipynb#ch0000004?line=2'>3</a>\u001b[0m     missing \u001b[39m=\u001b[39m df\u001b[39m.\u001b[39mcolumns\u001b[39m.\u001b[39misna()\u001b[39m.\u001b[39msum()\n\u001b[1;32m----> <a href='vscode-notebook-cell:/c%3A/Users/julij/wgt/WGT-House_Prices/scripts/feature_engineering.ipynb#ch0000004?line=3'>4</a>\u001b[0m     df_m \u001b[39m=\u001b[39m pd\u001b[39m.\u001b[39;49mDataFrame(missing)\n\u001b[0;32m      <a href='vscode-notebook-cell:/c%3A/Users/julij/wgt/WGT-House_Prices/scripts/feature_engineering.ipynb#ch0000004?line=5'>6</a>\u001b[0m    \u001b[39m# m = df_m != 0\u001b[39;00m\n\u001b[0;32m      <a href='vscode-notebook-cell:/c%3A/Users/julij/wgt/WGT-House_Prices/scripts/feature_engineering.ipynb#ch0000004?line=6'>7</a>\u001b[0m     \u001b[39m#print(df_m[df_m > 0])\u001b[39;00m\n\u001b[0;32m      <a href='vscode-notebook-cell:/c%3A/Users/julij/wgt/WGT-House_Prices/scripts/feature_engineering.ipynb#ch0000004?line=7'>8</a>\u001b[0m     \u001b[39mprint\u001b[39m(missing)\n",
      "File \u001b[1;32mc:\\Users\\julij\\wgt\\WGT-House_Prices\\houseprices\\lib\\site-packages\\pandas\\core\\frame.py:756\u001b[0m, in \u001b[0;36mDataFrame.__init__\u001b[1;34m(self, data, index, columns, dtype, copy)\u001b[0m\n\u001b[0;32m    <a href='file:///c%3A/Users/julij/wgt/WGT-House_Prices/houseprices/lib/site-packages/pandas/core/frame.py?line=752'>753</a>\u001b[0m \u001b[39m# For data is scalar\u001b[39;00m\n\u001b[0;32m    <a href='file:///c%3A/Users/julij/wgt/WGT-House_Prices/houseprices/lib/site-packages/pandas/core/frame.py?line=753'>754</a>\u001b[0m \u001b[39melse\u001b[39;00m:\n\u001b[0;32m    <a href='file:///c%3A/Users/julij/wgt/WGT-House_Prices/houseprices/lib/site-packages/pandas/core/frame.py?line=754'>755</a>\u001b[0m     \u001b[39mif\u001b[39;00m index \u001b[39mis\u001b[39;00m \u001b[39mNone\u001b[39;00m \u001b[39mor\u001b[39;00m columns \u001b[39mis\u001b[39;00m \u001b[39mNone\u001b[39;00m:\n\u001b[1;32m--> <a href='file:///c%3A/Users/julij/wgt/WGT-House_Prices/houseprices/lib/site-packages/pandas/core/frame.py?line=755'>756</a>\u001b[0m         \u001b[39mraise\u001b[39;00m \u001b[39mValueError\u001b[39;00m(\u001b[39m\"\u001b[39m\u001b[39mDataFrame constructor not properly called!\u001b[39m\u001b[39m\"\u001b[39m)\n\u001b[0;32m    <a href='file:///c%3A/Users/julij/wgt/WGT-House_Prices/houseprices/lib/site-packages/pandas/core/frame.py?line=757'>758</a>\u001b[0m     \u001b[39m# Argument 1 to \"ensure_index\" has incompatible type \"Collection[Any]\";\u001b[39;00m\n\u001b[0;32m    <a href='file:///c%3A/Users/julij/wgt/WGT-House_Prices/houseprices/lib/site-packages/pandas/core/frame.py?line=758'>759</a>\u001b[0m     \u001b[39m# expected \"Union[Union[Union[ExtensionArray, ndarray],\u001b[39;00m\n\u001b[0;32m    <a href='file:///c%3A/Users/julij/wgt/WGT-House_Prices/houseprices/lib/site-packages/pandas/core/frame.py?line=759'>760</a>\u001b[0m     \u001b[39m# Index, Series], Sequence[Any]]\"\u001b[39;00m\n\u001b[0;32m    <a href='file:///c%3A/Users/julij/wgt/WGT-House_Prices/houseprices/lib/site-packages/pandas/core/frame.py?line=760'>761</a>\u001b[0m     index \u001b[39m=\u001b[39m ensure_index(index)  \u001b[39m# type: ignore[arg-type]\u001b[39;00m\n",
      "\u001b[1;31mValueError\u001b[0m: DataFrame constructor not properly called!"
     ]
    }
   ],
   "source": [
    "with open('C:/Users/julij/wgt/WGT-House_Prices/results/missing_values.txt', 'w') as f:\n",
    "   \n",
    "    missing = df.columns.isna().sum()\n",
    "    df_m = pd.DataFrame(missing)\n",
    "\n",
    "   # m = df_m != 0\n",
    "    #print(df_m[df_m > 0])\n",
    "    print(missing)\n",
    "\n",
    "    #f.write(missing)"
   ]
  },
  {
   "cell_type": "code",
   "execution_count": null,
   "metadata": {},
   "outputs": [
    {
     "data": {
      "text/plain": [
       "81"
      ]
     },
     "execution_count": 50,
     "metadata": {},
     "output_type": "execute_result"
    },
    {
     "name": "stdout",
     "output_type": "stream",
     "text": [
      "nr of rows:  81\n"
     ]
    },
    {
     "data": {
      "text/plain": [
       "<bound method NDFrame.head of                  0\n",
       "Id               0\n",
       "MSSubClass       0\n",
       "MSZoning         0\n",
       "LotFrontage    259\n",
       "LotArea          0\n",
       "...            ...\n",
       "MoSold           0\n",
       "YrSold           0\n",
       "SaleType         0\n",
       "SaleCondition    0\n",
       "SalePrice        0\n",
       "\n",
       "[81 rows x 1 columns]>"
      ]
     },
     "execution_count": 50,
     "metadata": {},
     "output_type": "execute_result"
    }
   ],
   "source": [
    "#number of columns\n",
    "len(df_m)\n",
    "#number of rows\n",
    "index = df_m. index\n",
    "number_of_rows = len(index)\n",
    "print('nr of rows: ', number_of_rows)\n",
    "df_m.head\n",
    "#df_m.loc[df_m['0'] > 0]"
   ]
  },
  {
   "cell_type": "code",
   "execution_count": null,
   "metadata": {},
   "outputs": [
    {
     "data": {
      "text/html": [
       "<div>\n",
       "<style scoped>\n",
       "    .dataframe tbody tr th:only-of-type {\n",
       "        vertical-align: middle;\n",
       "    }\n",
       "\n",
       "    .dataframe tbody tr th {\n",
       "        vertical-align: top;\n",
       "    }\n",
       "\n",
       "    .dataframe thead th {\n",
       "        text-align: right;\n",
       "    }\n",
       "</style>\n",
       "<table border=\"1\" class=\"dataframe\">\n",
       "  <thead>\n",
       "    <tr style=\"text-align: right;\">\n",
       "      <th></th>\n",
       "      <th>missing_values</th>\n",
       "    </tr>\n",
       "  </thead>\n",
       "  <tbody>\n",
       "    <tr>\n",
       "      <th>Id</th>\n",
       "      <td>0</td>\n",
       "    </tr>\n",
       "    <tr>\n",
       "      <th>MSSubClass</th>\n",
       "      <td>0</td>\n",
       "    </tr>\n",
       "    <tr>\n",
       "      <th>MSZoning</th>\n",
       "      <td>0</td>\n",
       "    </tr>\n",
       "    <tr>\n",
       "      <th>LotFrontage</th>\n",
       "      <td>259</td>\n",
       "    </tr>\n",
       "    <tr>\n",
       "      <th>LotArea</th>\n",
       "      <td>0</td>\n",
       "    </tr>\n",
       "    <tr>\n",
       "      <th>...</th>\n",
       "      <td>...</td>\n",
       "    </tr>\n",
       "    <tr>\n",
       "      <th>MoSold</th>\n",
       "      <td>0</td>\n",
       "    </tr>\n",
       "    <tr>\n",
       "      <th>YrSold</th>\n",
       "      <td>0</td>\n",
       "    </tr>\n",
       "    <tr>\n",
       "      <th>SaleType</th>\n",
       "      <td>0</td>\n",
       "    </tr>\n",
       "    <tr>\n",
       "      <th>SaleCondition</th>\n",
       "      <td>0</td>\n",
       "    </tr>\n",
       "    <tr>\n",
       "      <th>SalePrice</th>\n",
       "      <td>0</td>\n",
       "    </tr>\n",
       "  </tbody>\n",
       "</table>\n",
       "<p>81 rows × 1 columns</p>\n",
       "</div>"
      ],
      "text/plain": [
       "               missing_values\n",
       "Id                          0\n",
       "MSSubClass                  0\n",
       "MSZoning                    0\n",
       "LotFrontage               259\n",
       "LotArea                     0\n",
       "...                       ...\n",
       "MoSold                      0\n",
       "YrSold                      0\n",
       "SaleType                    0\n",
       "SaleCondition               0\n",
       "SalePrice                   0\n",
       "\n",
       "[81 rows x 1 columns]"
      ]
     },
     "execution_count": 72,
     "metadata": {},
     "output_type": "execute_result"
    },
    {
     "data": {
      "text/plain": [
       "pandas.core.frame.DataFrame"
      ]
     },
     "execution_count": 72,
     "metadata": {},
     "output_type": "execute_result"
    },
    {
     "data": {
      "text/plain": [
       "Id                 0\n",
       "MSSubClass         0\n",
       "MSZoning           0\n",
       "LotFrontage      259\n",
       "LotArea            0\n",
       "                ... \n",
       "MoSold             0\n",
       "YrSold             0\n",
       "SaleType           0\n",
       "SaleCondition      0\n",
       "SalePrice          0\n",
       "Name: missing_values, Length: 81, dtype: int64"
      ]
     },
     "execution_count": 72,
     "metadata": {},
     "output_type": "execute_result"
    },
    {
     "ename": "KeyError",
     "evalue": "'missing_values'",
     "output_type": "error",
     "traceback": [
      "\u001b[1;31m---------------------------------------------------------------------------\u001b[0m",
      "\u001b[1;31mKeyError\u001b[0m                                  Traceback (most recent call last)",
      "File \u001b[1;32mc:\\Users\\julij\\wgt\\WGT-House_Prices\\houseprices\\lib\\site-packages\\pandas\\core\\indexes\\base.py:3621\u001b[0m, in \u001b[0;36mIndex.get_loc\u001b[1;34m(self, key, method, tolerance)\u001b[0m\n\u001b[0;32m   <a href='file:///c%3A/Users/julij/wgt/WGT-House_Prices/houseprices/lib/site-packages/pandas/core/indexes/base.py?line=3619'>3620</a>\u001b[0m \u001b[39mtry\u001b[39;00m:\n\u001b[1;32m-> <a href='file:///c%3A/Users/julij/wgt/WGT-House_Prices/houseprices/lib/site-packages/pandas/core/indexes/base.py?line=3620'>3621</a>\u001b[0m     \u001b[39mreturn\u001b[39;00m \u001b[39mself\u001b[39;49m\u001b[39m.\u001b[39;49m_engine\u001b[39m.\u001b[39;49mget_loc(casted_key)\n\u001b[0;32m   <a href='file:///c%3A/Users/julij/wgt/WGT-House_Prices/houseprices/lib/site-packages/pandas/core/indexes/base.py?line=3621'>3622</a>\u001b[0m \u001b[39mexcept\u001b[39;00m \u001b[39mKeyError\u001b[39;00m \u001b[39mas\u001b[39;00m err:\n",
      "File \u001b[1;32mc:\\Users\\julij\\wgt\\WGT-House_Prices\\houseprices\\lib\\site-packages\\pandas\\_libs\\index.pyx:136\u001b[0m, in \u001b[0;36mpandas._libs.index.IndexEngine.get_loc\u001b[1;34m()\u001b[0m\n",
      "File \u001b[1;32mc:\\Users\\julij\\wgt\\WGT-House_Prices\\houseprices\\lib\\site-packages\\pandas\\_libs\\index.pyx:163\u001b[0m, in \u001b[0;36mpandas._libs.index.IndexEngine.get_loc\u001b[1;34m()\u001b[0m\n",
      "File \u001b[1;32mpandas\\_libs\\hashtable_class_helper.pxi:5198\u001b[0m, in \u001b[0;36mpandas._libs.hashtable.PyObjectHashTable.get_item\u001b[1;34m()\u001b[0m\n",
      "File \u001b[1;32mpandas\\_libs\\hashtable_class_helper.pxi:5206\u001b[0m, in \u001b[0;36mpandas._libs.hashtable.PyObjectHashTable.get_item\u001b[1;34m()\u001b[0m\n",
      "\u001b[1;31mKeyError\u001b[0m: 'missing_values'",
      "\nThe above exception was the direct cause of the following exception:\n",
      "\u001b[1;31mKeyError\u001b[0m                                  Traceback (most recent call last)",
      "\u001b[1;32mc:\\Users\\julij\\wgt\\WGT-House_Prices\\scripts\\feature_engineering.ipynb Cell 7'\u001b[0m in \u001b[0;36m<cell line: 12>\u001b[1;34m()\u001b[0m\n\u001b[0;32m      <a href='vscode-notebook-cell:/c%3A/Users/julij/wgt/WGT-House_Prices/scripts/feature_engineering.ipynb#ch0000007?line=8'>9</a>\u001b[0m \u001b[39mtype\u001b[39m(df_m)\n\u001b[0;32m     <a href='vscode-notebook-cell:/c%3A/Users/julij/wgt/WGT-House_Prices/scripts/feature_engineering.ipynb#ch0000007?line=9'>10</a>\u001b[0m df_m[\u001b[39m'\u001b[39m\u001b[39mmissing_values\u001b[39m\u001b[39m'\u001b[39m]\n\u001b[1;32m---> <a href='vscode-notebook-cell:/c%3A/Users/julij/wgt/WGT-House_Prices/scripts/feature_engineering.ipynb#ch0000007?line=11'>12</a>\u001b[0m df_m[[\u001b[39m'\u001b[39m\u001b[39mColumn_name\u001b[39m\u001b[39m'\u001b[39m,\u001b[39m'\u001b[39m\u001b[39mMissing_values\u001b[39m\u001b[39m'\u001b[39m]] \u001b[39m=\u001b[39m df[\u001b[39m'\u001b[39;49m\u001b[39mmissing_values\u001b[39;49m\u001b[39m'\u001b[39;49m]\u001b[39m.\u001b[39mstr\u001b[39m.\u001b[39msplit(\u001b[39m\"\u001b[39m\u001b[39m_\u001b[39m\u001b[39m\"\u001b[39m,expand\u001b[39m=\u001b[39m\u001b[39mTrue\u001b[39;00m)\n",
      "File \u001b[1;32mc:\\Users\\julij\\wgt\\WGT-House_Prices\\houseprices\\lib\\site-packages\\pandas\\core\\frame.py:3505\u001b[0m, in \u001b[0;36mDataFrame.__getitem__\u001b[1;34m(self, key)\u001b[0m\n\u001b[0;32m   <a href='file:///c%3A/Users/julij/wgt/WGT-House_Prices/houseprices/lib/site-packages/pandas/core/frame.py?line=3502'>3503</a>\u001b[0m \u001b[39mif\u001b[39;00m \u001b[39mself\u001b[39m\u001b[39m.\u001b[39mcolumns\u001b[39m.\u001b[39mnlevels \u001b[39m>\u001b[39m \u001b[39m1\u001b[39m:\n\u001b[0;32m   <a href='file:///c%3A/Users/julij/wgt/WGT-House_Prices/houseprices/lib/site-packages/pandas/core/frame.py?line=3503'>3504</a>\u001b[0m     \u001b[39mreturn\u001b[39;00m \u001b[39mself\u001b[39m\u001b[39m.\u001b[39m_getitem_multilevel(key)\n\u001b[1;32m-> <a href='file:///c%3A/Users/julij/wgt/WGT-House_Prices/houseprices/lib/site-packages/pandas/core/frame.py?line=3504'>3505</a>\u001b[0m indexer \u001b[39m=\u001b[39m \u001b[39mself\u001b[39;49m\u001b[39m.\u001b[39;49mcolumns\u001b[39m.\u001b[39;49mget_loc(key)\n\u001b[0;32m   <a href='file:///c%3A/Users/julij/wgt/WGT-House_Prices/houseprices/lib/site-packages/pandas/core/frame.py?line=3505'>3506</a>\u001b[0m \u001b[39mif\u001b[39;00m is_integer(indexer):\n\u001b[0;32m   <a href='file:///c%3A/Users/julij/wgt/WGT-House_Prices/houseprices/lib/site-packages/pandas/core/frame.py?line=3506'>3507</a>\u001b[0m     indexer \u001b[39m=\u001b[39m [indexer]\n",
      "File \u001b[1;32mc:\\Users\\julij\\wgt\\WGT-House_Prices\\houseprices\\lib\\site-packages\\pandas\\core\\indexes\\base.py:3623\u001b[0m, in \u001b[0;36mIndex.get_loc\u001b[1;34m(self, key, method, tolerance)\u001b[0m\n\u001b[0;32m   <a href='file:///c%3A/Users/julij/wgt/WGT-House_Prices/houseprices/lib/site-packages/pandas/core/indexes/base.py?line=3620'>3621</a>\u001b[0m     \u001b[39mreturn\u001b[39;00m \u001b[39mself\u001b[39m\u001b[39m.\u001b[39m_engine\u001b[39m.\u001b[39mget_loc(casted_key)\n\u001b[0;32m   <a href='file:///c%3A/Users/julij/wgt/WGT-House_Prices/houseprices/lib/site-packages/pandas/core/indexes/base.py?line=3621'>3622</a>\u001b[0m \u001b[39mexcept\u001b[39;00m \u001b[39mKeyError\u001b[39;00m \u001b[39mas\u001b[39;00m err:\n\u001b[1;32m-> <a href='file:///c%3A/Users/julij/wgt/WGT-House_Prices/houseprices/lib/site-packages/pandas/core/indexes/base.py?line=3622'>3623</a>\u001b[0m     \u001b[39mraise\u001b[39;00m \u001b[39mKeyError\u001b[39;00m(key) \u001b[39mfrom\u001b[39;00m \u001b[39merr\u001b[39;00m\n\u001b[0;32m   <a href='file:///c%3A/Users/julij/wgt/WGT-House_Prices/houseprices/lib/site-packages/pandas/core/indexes/base.py?line=3623'>3624</a>\u001b[0m \u001b[39mexcept\u001b[39;00m \u001b[39mTypeError\u001b[39;00m:\n\u001b[0;32m   <a href='file:///c%3A/Users/julij/wgt/WGT-House_Prices/houseprices/lib/site-packages/pandas/core/indexes/base.py?line=3624'>3625</a>\u001b[0m     \u001b[39m# If we have a listlike key, _check_indexing_error will raise\u001b[39;00m\n\u001b[0;32m   <a href='file:///c%3A/Users/julij/wgt/WGT-House_Prices/houseprices/lib/site-packages/pandas/core/indexes/base.py?line=3625'>3626</a>\u001b[0m     \u001b[39m#  InvalidIndexError. Otherwise we fall through and re-raise\u001b[39;00m\n\u001b[0;32m   <a href='file:///c%3A/Users/julij/wgt/WGT-House_Prices/houseprices/lib/site-packages/pandas/core/indexes/base.py?line=3626'>3627</a>\u001b[0m     \u001b[39m#  the TypeError.\u001b[39;00m\n\u001b[0;32m   <a href='file:///c%3A/Users/julij/wgt/WGT-House_Prices/houseprices/lib/site-packages/pandas/core/indexes/base.py?line=3627'>3628</a>\u001b[0m     \u001b[39mself\u001b[39m\u001b[39m.\u001b[39m_check_indexing_error(key)\n",
      "\u001b[1;31mKeyError\u001b[0m: 'missing_values'"
     ]
    }
   ],
   "source": [
    "# iterating the columns\n",
    "#for col in df_m.columns:\n",
    "  #  print(col)\n",
    "\n",
    "#rename column\n",
    "df_m.rename(columns = {0:'missing_values'}, inplace = True)\n",
    "\n",
    "df_m\n",
    "type(df_m)\n",
    "df_m['missing_values']\n",
    "\n",
    "df_m[['Column_name','Missing_values']] = df['missing_values'].str.split(\"_\",expand=True)"
   ]
  },
  {
   "cell_type": "code",
   "execution_count": null,
   "metadata": {},
   "outputs": [
    {
     "name": "stdout",
     "output_type": "stream",
     "text": [
      "AxesSubplot(0.125,0.125;0.775x0.755)\n"
     ]
    },
    {
     "data": {
      "text/plain": [
       "<function matplotlib.pyplot.show(close=None, block=None)>"
      ]
     },
     "execution_count": 10,
     "metadata": {},
     "output_type": "execute_result"
    },
    {
     "data": {
      "image/png": "[encoded data removed]",
      "text/plain": [
       "<Figure size 432x288 with 1 Axes>"
      ]
     },
     "metadata": {
      "needs_background": "light"
     },
     "output_type": "display_data"
    }
   ],
   "source": [
    "print(df.isna().sum().plot(kind=\"bar\"))\n",
    "plt.show"
   ]
  }
 ],
 "metadata": {
  "interpreter": {
   "hash": "11b80d4289e7442379d543a527d2b9b0b25546c3f510b475b83e35b44eb3cb14"
  },
  "kernelspec": {
   "display_name": "Python 3.9.6 ('houseprices': venv)",
   "language": "python",
   "name": "python3"
  },
  "language_info": {
   "codemirror_mode": {
    "name": "ipython",
    "version": 3
   },
   "file_extension": ".py",
   "mimetype": "text/x-python",
   "name": "python",
   "nbconvert_exporter": "python",
   "pygments_lexer": "ipython3",
   "version": "3.9.6"
  },
  "orig_nbformat": 4
 },
 "nbformat": 4,
 "nbformat_minor": 2
}
